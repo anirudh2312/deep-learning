{
 "cells": [
  {
   "attachments": {},
   "cell_type": "markdown",
   "metadata": {},
   "source": [
    " # Introduction: Rock/Mine Prediction \n",
    "     \n",
    "This notebook is intended to gain some hands-on experience in implementing deep learning models using tensorflow library. In this notebook, we will build a model that can help the Naval Officers to identify whether an obstacle is a rock or a mine in the war zone using various sonar parameters. This is a standard supervised classification task:\n",
    "-  __Supervised:__ The labels are included in the training data and the goal is to train a model to learn to predict the labels from the features \n",
    "-  __Classification:__ The label is a binary variable, R (represents Rock), M (represents Mine)\n",
    "\n",
    "\n",
    "## Data\n",
    "\n",
    "The data is taken from UCI Machine Learning Repository: __[Sonar Dataset](http://archive.ics.uci.edu/ml/machine-learning-databases/undocumented/connectionist-bench/sonar/)__.\n",
    "\n",
    "\n",
    "## Workflow\n",
    "![image1.PNG](images/image1.PNG)\n",
    "\n",
    "Although this notebook presents the final model, lots of model were being tried to reach this final model (starting from just 2 hidden layers with 50 neurons each and relu activation to finally 4 hidden layers with 60 neurons each and sigmoid activation). The final model gives the accuracy of about 90%. "
   ]
  },
  {
   "cell_type": "markdown",
   "metadata": {},
   "source": [
    "### Imports\n",
    "We are using a typical data science stack: numpy, pandas, sklearn, matplotlib, and deep learning framwork: tensorflow. "
   ]
  },
  {
   "cell_type": "code",
   "execution_count": 1,
   "metadata": {},
   "outputs": [],
   "source": [
    "# numpy and pandas for data manipulation\n",
    "import numpy as np\n",
    "import pandas as pd\n",
    "\n",
    "# sklearn preprocessing for dealing with categorical variables \n",
    "from sklearn.preprocessing import LabelEncoder, OneHotEncoder\n",
    "\n",
    "# sklearn utils for shuffling the data\n",
    "from sklearn.utils import shuffle\n",
    "\n",
    "# sklearn model selection for splitting the data into training and testing data\n",
    "from sklearn.model_selection import train_test_split\n",
    "\n",
    "# tensorflow for building the model\n",
    "import tensorflow as tf\n",
    "\n",
    "# matplotlib for plotting\n",
    "import matplotlib.pyplot as plt"
   ]
  },
  {
   "cell_type": "markdown",
   "metadata": {},
   "source": [
    "### Read in data"
   ]
  },
  {
   "cell_type": "code",
   "execution_count": 2,
   "metadata": {},
   "outputs": [],
   "source": [
    "data = pd.read_csv(\"C:\\Data\\sonar_data\")\n",
    "\n",
    "# 'x' represents features and 'y' represents labels\n",
    "x = data[data.columns[0:60]].values\n",
    "y = data[data.columns[60]]\n",
    "\n",
    "x = np.array(x)\n",
    "y = np.array(y)"
   ]
  },
  {
   "cell_type": "code",
   "execution_count": 3,
   "metadata": {},
   "outputs": [],
   "source": [
    "# Encode the labels\n",
    "encoder = LabelEncoder()\n",
    "y = encoder.fit_transform(y)\n",
    "y = y.reshape(-1,1)\n",
    "encoder = OneHotEncoder(sparse=False)\n",
    "y = encoder.fit_transform(y)"
   ]
  },
  {
   "cell_type": "code",
   "execution_count": 4,
   "metadata": {},
   "outputs": [],
   "source": [
    "# shuffle the data\n",
    "x,y = shuffle(x,y, random_state=1)"
   ]
  },
  {
   "cell_type": "code",
   "execution_count": 5,
   "metadata": {},
   "outputs": [],
   "source": [
    "# Split the data into train and test with 80% training data and 20% testing data\n",
    "x_train, x_test, y_train, y_test = train_test_split(x,y, test_size=0.2)"
   ]
  },
  {
   "cell_type": "markdown",
   "metadata": {},
   "source": [
    "### Model Parameters\n",
    "We are building a fully connected neural network with 4 hidden layers, each consists of 60 neurons. The problem that we are solving is a binary classification problem, so the output layer consists of 2 neurons, corresponding to 2 classes (Rock and Mine). "
   ]
  },
  {
   "cell_type": "code",
   "execution_count": 22,
   "metadata": {},
   "outputs": [],
   "source": [
    "# Define the important parameters and variables to work with the tensors\n",
    "col = x_train.shape[1]\n",
    "learning_rate = 0.3\n",
    "epochs = 1000\n",
    "\n",
    "# Define the number of hidden layers and number of neurons for each layer\n",
    "n_hidden_1 = 60\n",
    "n_hidden_2 = 60\n",
    "n_hidden_3 = 60\n",
    "n_hidden_4 = 60\n",
    "n_class = 2\n",
    "\n",
    "# X and Y are 2 placeholders, to which we will provide the data during session run\n",
    "X = tf.placeholder(tf.float32, [None, col])\n",
    "Y = tf.placeholder(tf.float32, [None, n_class])\n",
    "\n"
   ]
  },
  {
   "cell_type": "markdown",
   "metadata": {},
   "source": [
    "### Define the model\n",
    "We will intitalise the weights and biases of our network using truncated normal distribution. We will use sigmoid activation function for the network. We will use cross entropy loss function with Gradient Descent optimizer. "
   ]
  },
  {
   "cell_type": "code",
   "execution_count": 23,
   "metadata": {},
   "outputs": [],
   "source": [
    "# Initialise the weights of the network\n",
    "weights = {\n",
    "    \"h1\": tf.Variable(tf.truncated_normal([col,n_hidden_1])),\n",
    "    \"h2\": tf.Variable(tf.truncated_normal([n_hidden_1,n_hidden_2])),\n",
    "    \"h3\": tf.Variable(tf.truncated_normal([n_hidden_2,n_hidden_3])),\n",
    "    \"h4\": tf.Variable(tf.truncated_normal([n_hidden_3,n_hidden_4])),\n",
    "    \"hout\": tf.Variable(tf.truncated_normal([n_hidden_4,n_class]))\n",
    "    }\n",
    "\n",
    "# Initialise the biases of the neurons in the network\n",
    "biases = {\n",
    "    \"b1\": tf.Variable(tf.truncated_normal([n_hidden_1])),\n",
    "    \"b2\": tf.Variable(tf.truncated_normal([n_hidden_2])),\n",
    "    \"b3\": tf.Variable(tf.truncated_normal([n_hidden_3])),\n",
    "    \"b4\": tf.Variable(tf.truncated_normal([n_hidden_4])),\n",
    "    \"bout\": tf.Variable(tf.truncated_normal([n_class]))\n",
    "    }\n",
    "\n",
    "# function to build the model  \n",
    "def model(x, weights, biases):\n",
    "    #  first hidden layer with 60 neurons and sigmoid activation function\n",
    "    layer_1 = tf.add(tf.matmul(x,weights[\"h1\"]), biases[\"b1\"])\n",
    "    layer_1 = tf.nn.sigmoid(layer_1)\n",
    "\n",
    "    # second hidden layer with 60 neurons and sigmoid activation\n",
    "    layer_2 = tf.add(tf.matmul(layer_1,weights[\"h2\"]), biases[\"b2\"])\n",
    "    layer_2 = tf.nn.sigmoid(layer_2)\n",
    "\n",
    "    # third hidden layer with 60 neurons and sigmoid activation\n",
    "    layer_3 = tf.add(tf.matmul(layer_2,weights[\"h3\"]), biases[\"b3\"])\n",
    "    layer_3 = tf.nn.sigmoid(layer_3)\n",
    "\n",
    "    # fourth hidden layer with 60 neurons and sigmoid activation\n",
    "    layer_4 = tf.add(tf.matmul(layer_3,weights[\"h4\"]), biases[\"b4\"])\n",
    "    layer_4 = tf.nn.sigmoid(layer_4)\n",
    "    \n",
    "    # final output layer with 2 neurons, each corresponding to a class (rock and mine)   \n",
    "    out = tf.add(tf.matmul(layer_4, weights[\"hout\"]), biases[\"bout\"])\n",
    "    return out\n",
    "\n",
    "# y_cap is the predicted outcome of our model\n",
    "y_cap = model(X, weights, biases)"
   ]
  },
  {
   "cell_type": "code",
   "execution_count": 24,
   "metadata": {},
   "outputs": [],
   "source": [
    "# to initialise all the variables\n",
    "init  = tf.global_variables_initializer()\n",
    "\n",
    "# cost function\n",
    "cost = tf.reduce_mean(tf.nn.softmax_cross_entropy_with_logits_v2(logits = y_cap, labels = Y))\n",
    "\n",
    "# optimizer\n",
    "train = tf.train.GradientDescentOptimizer(learning_rate).minimize(cost)\n",
    "\n",
    "sess= tf.Session()\n",
    "sess.run(init)"
   ]
  },
  {
   "cell_type": "markdown",
   "metadata": {},
   "source": [
    "### Train the model"
   ]
  },
  {
   "cell_type": "code",
   "execution_count": null,
   "metadata": {},
   "outputs": [],
   "source": [
    "train_accuracy_history = []\n",
    "test_accuracy_history = []\n",
    "train_loss_history = []\n",
    "test_loss_history = []\n",
    "\n",
    "for epoch in range(epochs):\n",
    "    # Run the session\n",
    "    sess.run(train, feed_dict = {X:x_train, Y:y_train})\n",
    "    \n",
    "    # Calculate train and test cost\n",
    "    train_cost = sess.run(cost, feed_dict = {X: x_train, Y:y_train})\n",
    "    pred_y, test_cost = sess.run([y_cap, cost], feed_dict = {X:x_test, Y:y_test})\n",
    "    \n",
    "    train_loss_history.append(train_cost)\n",
    "    test_loss_history.append(test_cost)\n",
    "    \n",
    "    # Calculate train and test accuracy\n",
    "    correct_prediction = tf.equal(tf.argmax(y_cap,1), tf.argmax(Y,1))\n",
    "    accuracy = tf.reduce_mean(tf.cast(correct_prediction, tf.float32))\n",
    "    train_accuracy = (sess.run(accuracy, feed_dict = {X:x_train, Y:y_train}))\n",
    "    test_accuracy = (sess.run(accuracy, feed_dict = {X:x_test, Y:y_test}))\n",
    "    \n",
    "    train_accuracy_history.append(train_accuracy)\n",
    "    test_accuracy_history.append(test_accuracy)\n",
    "\n",
    "    print(\"epoch:\", epoch, \"-\", \"train_loss:\", train_cost, \"-\",\"test_loss:\",test_cost, \"-\", \"train_acc:\", train_accuracy, \"-\", \"test_acc:\", test_accuracy )\n",
    "    "
   ]
  },
  {
   "cell_type": "markdown",
   "metadata": {},
   "source": [
    "### Plot the training and testing graphs"
   ]
  },
  {
   "cell_type": "code",
   "execution_count": 26,
   "metadata": {},
   "outputs": [
    {
     "data": {
      "image/png": "[encoded data removed]",
      "text/plain": [
       "<Figure size 432x288 with 1 Axes>"
      ]
     },
     "metadata": {},
     "output_type": "display_data"
    },
    {
     "data": {
      "image/png": "[encoded data removed]",
      "text/plain": [
       "<Figure size 432x288 with 1 Axes>"
      ]
     },
     "metadata": {},
     "output_type": "display_data"
    }
   ],
   "source": [
    "# Plot cost and accuracy graph\n",
    "plt.plot(train_loss_history)\n",
    "plt.plot(test_loss_history)\n",
    "plt.xlabel(\"epochs\")\n",
    "plt.ylabel(\"cost\")\n",
    "plt.show()\n",
    "plt.plot(train_accuracy_history)\n",
    "plt.plot(test_accuracy_history)\n",
    "plt.xlabel(\"epochs\")\n",
    "plt.ylabel(\"accuracy\")\n",
    "plt.show()"
   ]
  },
  {
   "cell_type": "markdown",
   "metadata": {},
   "source": [
    "In the above graphs, blue represents training cost and training accuracy, and orange represents test cost and test accuracy. From the above graphs, we can observe that our model is getting into the problem of overfitting as training accuracy is approaching 1 while test accuracy is around 0.88. The graphs also have large variations. \n",
    "\n",
    "There can be many reasons for overfitting:                                                                                       \n",
    "a) Bad Network/Model                                                                                                             \n",
    "b) Too many neurons                                                                                                            \n",
    "c) Not enough data\n",
    "\n",
    "For this model we can try to reduce overfitting by introducing regularization technique, namely Dropout. This issue of overfitting in this model is dealt in another notebook, and the issue of large variations is also discussed.  "
   ]
  },
  {
   "cell_type": "code",
   "execution_count": null,
   "metadata": {},
   "outputs": [],
   "source": []
  }
 ],
 "metadata": {
  "kernelspec": {
   "display_name": "Python 3",
   "language": "python",
   "name": "python3"
  },
  "language_info": {
   "codemirror_mode": {
    "name": "ipython",
    "version": 3
   },
   "file_extension": ".py",
   "mimetype": "text/x-python",
   "name": "python",
   "nbconvert_exporter": "python",
   "pygments_lexer": "ipython3",
   "version": "3.6.5"
  }
 },
 "nbformat": 4,
 "nbformat_minor": 2
}
